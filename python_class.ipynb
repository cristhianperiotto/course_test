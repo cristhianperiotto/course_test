{
  "nbformat": 4,
  "nbformat_minor": 0,
  "metadata": {
    "colab": {
      "provenance": [],
      "toc_visible": true,
      "authorship_tag": "ABX9TyOySg7qiMfsUSgpddTHTpOt",
      "include_colab_link": true
    },
    "kernelspec": {
      "name": "python3",
      "display_name": "Python 3"
    },
    "language_info": {
      "name": "python"
    }
  },
  "cells": [
    {
      "cell_type": "markdown",
      "metadata": {
        "id": "view-in-github",
        "colab_type": "text"
      },
      "source": [
        "<a href=\"https://colab.research.google.com/github/cristhianperiotto/course_test/blob/main/python_class.ipynb\" target=\"_parent\"><img src=\"https://colab.research.google.com/assets/colab-badge.svg\" alt=\"Open In Colab\"/></a>"
      ]
    },
    {
      "cell_type": "code",
      "execution_count": null,
      "metadata": {
        "id": "dFYA19aNNdtK"
      },
      "outputs": [],
      "source": [
        "Introduction Python"
      ]
    },
    {
      "cell_type": "code",
      "source": [],
      "metadata": {
        "id": "i75un1LAPupR"
      },
      "execution_count": null,
      "outputs": []
    },
    {
      "cell_type": "code",
      "source": [
        "for i in range(0,6):\n",
        "  print(\"Tha interation number is {}\".format(i))\n"
      ],
      "metadata": {
        "colab": {
          "base_uri": "https://localhost:8080/"
        },
        "id": "XMMnijmV1UX4",
        "outputId": "0af2b2e5-4390-440f-ab2b-028fd03ee203"
      },
      "execution_count": null,
      "outputs": [
        {
          "output_type": "stream",
          "name": "stdout",
          "text": [
            "Tha interation number is 0\n",
            "Tha interation number is 1\n",
            "Tha interation number is 2\n",
            "Tha interation number is 3\n",
            "Tha interation number is 4\n",
            "Tha interation number is 5\n"
          ]
        }
      ]
    },
    {
      "cell_type": "markdown",
      "source": [
        "## Introduction Pyton\\s"
      ],
      "metadata": {
        "id": "FZbiy1xtOmTy"
      }
    }
  ]
}